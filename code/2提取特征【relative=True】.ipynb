{
 "cells": [
  {
   "cell_type": "code",
   "execution_count": 1,
   "id": "2396d9db",
   "metadata": {},
   "outputs": [],
   "source": [
    "#from part1_preprocess import date2student_id\n",
    "import tqdm\n",
    "import numpy as np\n",
    "from scipy.integrate import simps\n",
    "import math\n",
    "import os\n",
    "import json"
   ]
  },
  {
   "cell_type": "code",
   "execution_count": 2,
   "id": "e0080dbc",
   "metadata": {},
   "outputs": [],
   "source": [
    "FREQ_BANDS = {    # 4-7\n",
    "    \"delta\": [0.5, 4],   # 1-3 \n",
    "    \"theta\": [4, 8],     # 4-7\n",
    "    \"alpha\": [8, 13],    # 8-12\n",
    "    \"beta\": [13, 30],    # 13-30\n",
    "    \"gamma\": [30,50]\n",
    "}"
   ]
  },
  {
   "cell_type": "code",
   "execution_count": 3,
   "id": "6842c898",
   "metadata": {},
   "outputs": [],
   "source": [
    "def bandpower(data, sf, band, method='welch', window_sec=None, relative=False):\n",
    "    from scipy.signal import welch\n",
    "    from mne.time_frequency import psd_array_multitaper\n",
    "\n",
    "    band = np.asarray(band)\n",
    "    low, high = band\n",
    "\n",
    "    # Compute the modified periodogram (Welch)\n",
    "    if method == 'welch':\n",
    "        if window_sec is not None:\n",
    "            nperseg = window_sec * sf\n",
    "        else:\n",
    "            nperseg = (2 / low) * sf\n",
    "\n",
    "        freqs, psd = welch(data, sf, nperseg=nperseg)\n",
    "\n",
    "    elif method == 'multitaper':\n",
    "        psd, freqs = psd_array_multitaper(data, sf, adaptive=True,\n",
    "                                          normalization='full', verbose=0)\n",
    "\n",
    "    # Frequency resolution\n",
    "    freq_res = freqs[1] - freqs[0]\n",
    "\n",
    "    # Find index of band in frequency vector\n",
    "    idx_band = np.logical_and(freqs >= low, freqs <= high)\n",
    "\n",
    "    # Integral approximation of the spectrum using parabola (Simpson's rule)\n",
    "    bp = simps(psd[idx_band], dx=freq_res)\n",
    "\n",
    "    if relative:\n",
    "        bp /= simps(psd, dx=freq_res)\n",
    "    return bp"
   ]
  },
  {
   "cell_type": "code",
   "execution_count": null,
   "id": "eb807720",
   "metadata": {},
   "outputs": [],
   "source": [
    "'''def get_bp(idx2eeg, out_path):\n",
    "    print('extracting bp', end = ' ')\n",
    "    idx2de = {}\n",
    "    for idx in idx2eeg.keys():\n",
    "        eeg = np.array(idx2eeg[idx])\n",
    "        de_list = []\n",
    "        for i in range(min(int(eeg.shape[1]/1000),10)):\n",
    "            fs = 1000\n",
    "            # tmp_data = eeg[:, i * 1000 : i * 1000 + 500]\n",
    "\n",
    "            tmp_data = eeg[:, i * 1000 : i * 1000 + 1000]\n",
    "            tmp_fs = []\n",
    "            for channel_id in range(tmp_data.shape[0]):\n",
    "                tmp_feature = []\n",
    "                for band_item in FREQ_BANDS.values():\n",
    "                    tmp_feature.append(math.log(bandpower(tmp_data[channel_id], fs, band_item)))\n",
    "                tmp_fs.append(tmp_feature)\n",
    "            de_list.append(tmp_fs)\n",
    "        idx2de[idx] = de_list\n",
    "    json.dump(idx2de, open(out_path, 'w'))\n",
    "'''"
   ]
  },
  {
   "cell_type": "code",
   "execution_count": 5,
   "id": "3dc83690",
   "metadata": {},
   "outputs": [],
   "source": [
    "def get_bp(idx2eeg, out_path):\n",
    "    print('Extracting bp...', end=' ')\n",
    "    idx2de = {}\n",
    "    try:\n",
    "        for idx in idx2eeg.keys():\n",
    "            eeg = np.array(idx2eeg[idx])\n",
    "            de_list = []\n",
    "            #print('EEGSHAPE:',int(eeg.shape[1]))\n",
    "            for i in range(min(int(eeg.shape[1]/1000), 10)):\n",
    "                fs = 1000\n",
    "                # 每次处理1000个样本\n",
    "                tmp_data = eeg[:, i * 1000 : i * 1000 + 1000]\n",
    "                tmp_fs = []\n",
    "                for channel_id in range(tmp_data.shape[0]):\n",
    "                    tmp_feature = []\n",
    "                    for band_item in FREQ_BANDS.values():\n",
    "                        # 确保bandpower函数可以正确处理数据\n",
    "                        tmp_feature.append(math.log(bandpower(tmp_data[channel_id], fs, band_item,relative=True)))\n",
    "                        # 采用psd特征\n",
    "                        #tmp_feature.append((bandpower(tmp_data[channel_id], fs, band_item,relative=True)))\n",
    "                    tmp_fs.append(tmp_feature)\n",
    "                de_list.append(tmp_fs)\n",
    "            idx2de[idx] = de_list\n",
    "\n",
    "        # 使用with语句确保文件正确关闭\n",
    "        with open(out_path, 'w') as file:\n",
    "            json.dump(idx2de, file)\n",
    "\n",
    "    except Exception as e:\n",
    "        print(\"An error occurred: \", e)\n",
    "        # 处理或记录异常，根据需要修改\n",
    "\n",
    "    print('Done.')\n"
   ]
  },
  {
   "cell_type": "code",
   "execution_count": null,
   "id": "83c3df4e",
   "metadata": {},
   "outputs": [],
   "source": [
    "'''\n",
    "'LAB1-huqifan','LAB1-cangyueyang','LAB1-hongyurui','LAB1-fanhao','LAB1-dongyimeng','LAB1-houlinzhi','LAB1-jiwenjun','LAB1-lujianing','LAB1-miaoshengze',\n",
    "             'LAB1-wanfangwei','LAB1-wangxiaoting','LAB1-wangzhengni','LAB1-yangchen','LAB1-zhangxue','LAB1-liangqihang','LAB1-daisiwei',\n",
    "             'LAB1-zhangyutong','LAB1-mengfanjie','LAB1-zhangchenxi','LAB1-liangyanshu','LAB1-zhaochensong','LAB1-chenxingyu','LAB1-chenrong'\n",
    "'LAB2-huqifan','LAB2-cangyueyang','LAB2-hongyurui','LAB2-fanhao','LAB2-dongyimeng','LAB2-houlinzhi','LAB2-jiwenjun','LAB2-lujianing','LAB2-miaoshengze',\n",
    "             'LAB2-wanfangwei','LAB2-wangxiaoting','LAB2-wangzhengni','LAB2-yangchen','LAB2-zhangxue','LAB2-liangqihang','LAB2-daisiwei',\n",
    "             'LAB2-zhangyutong','LAB2-mengfanjie','LAB2-zhangchenxi','LAB2-liangyanshu','LAB2-zhaochensong','LAB2-chenxingyu','LAB2-chenrong'\n",
    "'''\n",
    "#缺了'guohongyang'\n"
   ]
  },
  {
   "cell_type": "code",
   "execution_count": 6,
   "id": "72e402a7",
   "metadata": {},
   "outputs": [
    {
     "name": "stderr",
     "output_type": "stream",
     "text": [
      "  0%|          | 0/7 [00:00<?, ?it/s]"
     ]
    },
    {
     "name": "stdout",
     "output_type": "stream",
     "text": [
      "Extracting bp... "
     ]
    },
    {
     "name": "stderr",
     "output_type": "stream",
     "text": [
      "c:\\Users\\19094\\anaconda3\\lib\\site-packages\\scipy\\signal\\spectral.py:1964: UserWarning: nperseg = 4000 is greater than input length  = 1000, using nperseg = 1000\n",
      "  warnings.warn('nperseg = {0:d} is greater than input length '\n",
      " 14%|█▍        | 1/7 [01:22<08:14, 82.39s/it]"
     ]
    },
    {
     "name": "stdout",
     "output_type": "stream",
     "text": [
      "Done.\n",
      "Extracting bp... "
     ]
    },
    {
     "name": "stderr",
     "output_type": "stream",
     "text": [
      " 29%|██▊       | 2/7 [02:19<05:37, 67.45s/it]"
     ]
    },
    {
     "name": "stdout",
     "output_type": "stream",
     "text": [
      "Done.\n",
      "Extracting bp... "
     ]
    },
    {
     "name": "stderr",
     "output_type": "stream",
     "text": [
      " 43%|████▎     | 3/7 [03:47<05:06, 76.70s/it]"
     ]
    },
    {
     "name": "stdout",
     "output_type": "stream",
     "text": [
      "Done.\n",
      "Extracting bp... "
     ]
    },
    {
     "name": "stderr",
     "output_type": "stream",
     "text": [
      " 57%|█████▋    | 4/7 [04:56<03:40, 73.64s/it]"
     ]
    },
    {
     "name": "stdout",
     "output_type": "stream",
     "text": [
      "Done.\n",
      "Extracting bp... "
     ]
    },
    {
     "name": "stderr",
     "output_type": "stream",
     "text": [
      " 71%|███████▏  | 5/7 [06:02<02:22, 71.12s/it]"
     ]
    },
    {
     "name": "stdout",
     "output_type": "stream",
     "text": [
      "Done.\n",
      "Extracting bp... "
     ]
    },
    {
     "name": "stderr",
     "output_type": "stream",
     "text": [
      " 86%|████████▌ | 6/7 [07:26<01:15, 75.38s/it]"
     ]
    },
    {
     "name": "stdout",
     "output_type": "stream",
     "text": [
      "Done.\n",
      "Extracting bp... "
     ]
    },
    {
     "name": "stderr",
     "output_type": "stream",
     "text": [
      "100%|██████████| 7/7 [08:33<00:00, 73.38s/it]"
     ]
    },
    {
     "name": "stdout",
     "output_type": "stream",
     "text": [
      "Done.\n"
     ]
    },
    {
     "name": "stderr",
     "output_type": "stream",
     "text": [
      "\n"
     ]
    }
   ],
   "source": [
    "for date in tqdm.tqdm(['LAB2-guohongyang','LAB2-zhaochensong','LAB2-chenxingyu','LAB2-chenrong','LAB1-zhaochensong','LAB1-chenxingyu','LAB1-chenrong'\n",
    "]):\n",
    "    idx2eeg = json.load(open('./x2eeg/'+date+'_idx2eeg.json'))\n",
    "    get_bp(idx2eeg, './higher_features/'+date+'_idx2de.json')"
   ]
  },
  {
   "cell_type": "code",
   "execution_count": null,
   "id": "89f37b9d",
   "metadata": {},
   "outputs": [],
   "source": []
  },
  {
   "cell_type": "code",
   "execution_count": null,
   "id": "3f782eb1",
   "metadata": {},
   "outputs": [],
   "source": []
  },
  {
   "cell_type": "code",
   "execution_count": null,
   "id": "408ca1d5",
   "metadata": {},
   "outputs": [],
   "source": []
  },
  {
   "cell_type": "code",
   "execution_count": null,
   "id": "8707c184",
   "metadata": {},
   "outputs": [],
   "source": []
  }
 ],
 "metadata": {
  "kernelspec": {
   "display_name": "Python 3 (ipykernel)",
   "language": "python",
   "name": "python3"
  },
  "language_info": {
   "codemirror_mode": {
    "name": "ipython",
    "version": 3
   },
   "file_extension": ".py",
   "mimetype": "text/x-python",
   "name": "python",
   "nbconvert_exporter": "python",
   "pygments_lexer": "ipython3",
   "version": "3.9.7"
  }
 },
 "nbformat": 4,
 "nbformat_minor": 5
}
