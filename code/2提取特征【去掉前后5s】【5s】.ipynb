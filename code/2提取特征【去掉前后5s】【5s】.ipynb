{
 "cells": [
  {
   "cell_type": "code",
   "execution_count": null,
   "id": "2396d9db",
   "metadata": {},
   "outputs": [],
   "source": [
    "#from part1_preprocess import date2student_id\n",
    "import tqdm\n",
    "import numpy as np\n",
    "from scipy.integrate import simps\n",
    "import math\n",
    "import os\n",
    "import json"
   ]
  },
  {
   "cell_type": "code",
   "execution_count": null,
   "id": "e0080dbc",
   "metadata": {},
   "outputs": [],
   "source": [
    "FREQ_BANDS = {    # 4-7\n",
    "    \"delta\": [0.5, 4],   # 1-3 \n",
    "    \"theta\": [4, 8],     # 4-7\n",
    "    \"alpha\": [8, 13],    # 8-12\n",
    "    \"beta\": [13, 30],    # 13-30\n",
    "    \"gamma\": [30,50]\n",
    "}"
   ]
  },
  {
   "cell_type": "code",
   "execution_count": null,
   "id": "6842c898",
   "metadata": {},
   "outputs": [],
   "source": [
    "def bandpower(data, sf, band, method='welch', window_sec=None, relative=False):\n",
    "    from scipy.signal import welch\n",
    "    from mne.time_frequency import psd_array_multitaper\n",
    "\n",
    "    band = np.asarray(band)\n",
    "    low, high = band\n",
    "\n",
    "    # Compute the modified periodogram (Welch)\n",
    "    if method == 'welch':\n",
    "        if window_sec is not None:\n",
    "            nperseg = window_sec * sf\n",
    "        else:\n",
    "            nperseg = (2 / low) * sf\n",
    "\n",
    "        freqs, psd = welch(data, sf, nperseg=nperseg)\n",
    "\n",
    "    elif method == 'multitaper':\n",
    "        psd, freqs = psd_array_multitaper(data, sf, adaptive=True,\n",
    "                                          normalization='full', verbose=0)\n",
    "\n",
    "    # Frequency resolution\n",
    "    freq_res = freqs[1] - freqs[0]\n",
    "\n",
    "    # Find index of band in frequency vector\n",
    "    idx_band = np.logical_and(freqs >= low, freqs <= high)\n",
    "\n",
    "    # Integral approximation of the spectrum using parabola (Simpson's rule)\n",
    "    bp = simps(psd[idx_band], dx=freq_res)\n",
    "\n",
    "    if relative:\n",
    "        bp /= simps(psd, dx=freq_res)\n",
    "    return bp"
   ]
  },
  {
   "cell_type": "code",
   "execution_count": null,
   "id": "eb807720",
   "metadata": {},
   "outputs": [],
   "source": [
    "'''def get_bp(idx2eeg, out_path):\n",
    "    print('extracting bp', end = ' ')\n",
    "    idx2de = {}\n",
    "    for idx in idx2eeg.keys():\n",
    "        eeg = np.array(idx2eeg[idx])\n",
    "        de_list = []\n",
    "        for i in range(min(int(eeg.shape[1]/1000),10)):\n",
    "            fs = 1000\n",
    "            # tmp_data = eeg[:, i * 1000 : i * 1000 + 500]\n",
    "\n",
    "            tmp_data = eeg[:, i * 1000 : i * 1000 + 1000]\n",
    "            tmp_fs = []\n",
    "            for channel_id in range(tmp_data.shape[0]):\n",
    "                tmp_feature = []\n",
    "                for band_item in FREQ_BANDS.values():\n",
    "                    tmp_feature.append(math.log(bandpower(tmp_data[channel_id], fs, band_item)))\n",
    "                tmp_fs.append(tmp_feature)\n",
    "            de_list.append(tmp_fs)\n",
    "        idx2de[idx] = de_list\n",
    "    json.dump(idx2de, open(out_path, 'w'))\n",
    "'''"
   ]
  },
  {
   "cell_type": "code",
   "execution_count": null,
   "id": "41d10619",
   "metadata": {},
   "outputs": [],
   "source": [
    "#设置时间窗口、去掉前后的幅度。"
   ]
  },
  {
   "cell_type": "code",
   "execution_count": null,
   "id": "3dc83690",
   "metadata": {},
   "outputs": [],
   "source": [
    "def get_bp(idx2eeg, out_path, video_duration=60, fs=1000, discard_sec=5):\n",
    "    print('Extracting bp...', end=' ')\n",
    "    idx2de = {}\n",
    "    try:\n",
    "        for idx in idx2eeg.keys():\n",
    "            #print(\"idx:\", idx)\n",
    "            eeg = np.array(idx2eeg[idx])\n",
    "\n",
    "            # 计算需要舍弃的数据点数目\n",
    "            discard_samples = discard_sec * fs\n",
    "\n",
    "            # 调整EEG数据，去掉视频开始和结束的5秒数据\n",
    "            eeg = eeg[:, discard_samples: -discard_samples]\n",
    "\n",
    "            de_list = []\n",
    "\n",
    "            # 计算特征提取的次数，确保不超出调整后的数据长度\n",
    "            num_of_extraction = min(int(eeg.shape[1] / 5000), video_duration - 2 * discard_sec)\n",
    "\n",
    "            for i in range(num_of_extraction):\n",
    "                # 每次处理1000个样本\n",
    "                tmp_data = eeg[:, i * 5000: i * 5000 + 5000]\n",
    "                tmp_fs = []\n",
    "                for channel_id in range(tmp_data.shape[0]):\n",
    "                    tmp_feature = []\n",
    "                    for band_item in FREQ_BANDS.values():\n",
    "                        # 采用de特征\n",
    "                        tmp_feature.append(math.log(bandpower(tmp_data[channel_id], fs, band_item, relative=True)))\n",
    "                        # 采用psd特征\n",
    "                        # tmp_feature.append((bandpower(tmp_data[channel_id], fs, band_item, relative=True)))\n",
    "                    tmp_fs.append(tmp_feature)\n",
    "                de_list.append(tmp_fs)\n",
    "            idx2de[idx] = de_list\n",
    "\n",
    "        # 使用with语句确保文件正确关闭\n",
    "        with open(out_path, 'w') as file:\n",
    "            json.dump(idx2de, file)\n",
    "\n",
    "    except Exception as e:\n",
    "        print(\"An error occurred: \", e)\n",
    "        # 处理或记录异常，根据需要修改\n",
    "\n",
    "    print('Done.')\n"
   ]
  },
  {
   "cell_type": "code",
   "execution_count": null,
   "id": "72e402a7",
   "metadata": {},
   "outputs": [],
   "source": [
    "for date in tqdm.tqdm(['LAB1-huqifan','LAB1-cangyueyang','LAB1-hongyurui','LAB1-fanhao','LAB1-dongyimeng','LAB1-houlinzhi']):\n",
    "    idx2eeg = json.load(open('./x2eeg/'+date+'_idx2eeg.json'))\n",
    "    get_bp(idx2eeg, './discard_features_window=5/'+date+'_idx2de.json')"
   ]
  },
  {
   "cell_type": "code",
   "execution_count": null,
   "id": "89f37b9d",
   "metadata": {},
   "outputs": [],
   "source": []
  },
  {
   "cell_type": "code",
   "execution_count": null,
   "id": "3f782eb1",
   "metadata": {},
   "outputs": [],
   "source": []
  },
  {
   "cell_type": "code",
   "execution_count": null,
   "id": "408ca1d5",
   "metadata": {},
   "outputs": [],
   "source": []
  },
  {
   "cell_type": "code",
   "execution_count": null,
   "id": "8707c184",
   "metadata": {},
   "outputs": [],
   "source": []
  }
 ],
 "metadata": {
  "kernelspec": {
   "display_name": "Python 3 (ipykernel)",
   "language": "python",
   "name": "python3"
  },
  "language_info": {
   "codemirror_mode": {
    "name": "ipython",
    "version": 3
   },
   "file_extension": ".py",
   "mimetype": "text/x-python",
   "name": "python",
   "nbconvert_exporter": "python",
   "pygments_lexer": "ipython3",
   "version": "3.9.7"
  }
 },
 "nbformat": 4,
 "nbformat_minor": 5
}
