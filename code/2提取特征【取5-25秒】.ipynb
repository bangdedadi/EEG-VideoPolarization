{
 "cells": [
  {
   "cell_type": "code",
   "execution_count": 1,
   "id": "2396d9db",
   "metadata": {},
   "outputs": [],
   "source": [
    "#from part1_preprocess import date2student_id\n",
    "import tqdm\n",
    "import numpy as np\n",
    "from scipy.integrate import simps\n",
    "import math\n",
    "import os\n",
    "import json"
   ]
  },
  {
   "cell_type": "code",
   "execution_count": 2,
   "id": "e0080dbc",
   "metadata": {},
   "outputs": [],
   "source": [
    "FREQ_BANDS = {    # 4-7\n",
    "    \"delta\": [0.5, 4],   # 1-3 \n",
    "    \"theta\": [4, 8],     # 4-7\n",
    "    \"alpha\": [8, 13],    # 8-12\n",
    "    \"beta\": [13, 30],    # 13-30\n",
    "    \"gamma\": [30,50]\n",
    "}"
   ]
  },
  {
   "cell_type": "code",
   "execution_count": 3,
   "id": "6842c898",
   "metadata": {},
   "outputs": [],
   "source": [
    "def bandpower(data, sf, band, method='welch', window_sec=None, relative=False):\n",
    "    from scipy.signal import welch\n",
    "    from mne.time_frequency import psd_array_multitaper\n",
    "\n",
    "    band = np.asarray(band)\n",
    "    low, high = band\n",
    "\n",
    "    # Compute the modified periodogram (Welch)\n",
    "    if method == 'welch':\n",
    "        if window_sec is not None:\n",
    "            nperseg = window_sec * sf\n",
    "        else:\n",
    "            nperseg = (2 / low) * sf\n",
    "\n",
    "        freqs, psd = welch(data, sf, nperseg=nperseg)\n",
    "\n",
    "    elif method == 'multitaper':\n",
    "        psd, freqs = psd_array_multitaper(data, sf, adaptive=True,\n",
    "                                          normalization='full', verbose=0)\n",
    "\n",
    "    # Frequency resolution\n",
    "    freq_res = freqs[1] - freqs[0]\n",
    "\n",
    "    # Find index of band in frequency vector\n",
    "    idx_band = np.logical_and(freqs >= low, freqs <= high)\n",
    "\n",
    "    # Integral approximation of the spectrum using parabola (Simpson's rule)\n",
    "    bp = simps(psd[idx_band], dx=freq_res)\n",
    "\n",
    "    if relative:\n",
    "        bp /= simps(psd, dx=freq_res)\n",
    "    return bp"
   ]
  },
  {
   "cell_type": "code",
   "execution_count": 4,
   "id": "eb807720",
   "metadata": {},
   "outputs": [
    {
     "data": {
      "text/plain": [
       "\"def get_bp(idx2eeg, out_path):\\n    print('extracting bp', end = ' ')\\n    idx2de = {}\\n    for idx in idx2eeg.keys():\\n        eeg = np.array(idx2eeg[idx])\\n        de_list = []\\n        for i in range(min(int(eeg.shape[1]/1000),10)):\\n            fs = 1000\\n            # tmp_data = eeg[:, i * 1000 : i * 1000 + 500]\\n\\n            tmp_data = eeg[:, i * 1000 : i * 1000 + 1000]\\n            tmp_fs = []\\n            for channel_id in range(tmp_data.shape[0]):\\n                tmp_feature = []\\n                for band_item in FREQ_BANDS.values():\\n                    tmp_feature.append(math.log(bandpower(tmp_data[channel_id], fs, band_item)))\\n                tmp_fs.append(tmp_feature)\\n            de_list.append(tmp_fs)\\n        idx2de[idx] = de_list\\n    json.dump(idx2de, open(out_path, 'w'))\\n\""
      ]
     },
     "execution_count": 4,
     "metadata": {},
     "output_type": "execute_result"
    }
   ],
   "source": [
    "'''def get_bp(idx2eeg, out_path):\n",
    "    print('extracting bp', end = ' ')\n",
    "    idx2de = {}\n",
    "    for idx in idx2eeg.keys():\n",
    "        eeg = np.array(idx2eeg[idx])\n",
    "        de_list = []\n",
    "        for i in range(min(int(eeg.shape[1]/1000),10)):\n",
    "            fs = 1000\n",
    "            # tmp_data = eeg[:, i * 1000 : i * 1000 + 500]\n",
    "\n",
    "            tmp_data = eeg[:, i * 1000 : i * 1000 + 1000]\n",
    "            tmp_fs = []\n",
    "            for channel_id in range(tmp_data.shape[0]):\n",
    "                tmp_feature = []\n",
    "                for band_item in FREQ_BANDS.values():\n",
    "                    tmp_feature.append(math.log(bandpower(tmp_data[channel_id], fs, band_item)))\n",
    "                tmp_fs.append(tmp_feature)\n",
    "            de_list.append(tmp_fs)\n",
    "        idx2de[idx] = de_list\n",
    "    json.dump(idx2de, open(out_path, 'w'))\n",
    "'''"
   ]
  },
  {
   "cell_type": "code",
   "execution_count": null,
   "id": "41d10619",
   "metadata": {},
   "outputs": [],
   "source": [
    "#设置时间窗口、去掉前后的幅度。"
   ]
  },
  {
   "cell_type": "code",
   "execution_count": 4,
   "id": "3dc83690",
   "metadata": {},
   "outputs": [],
   "source": [
    "def get_bp(idx2eeg, out_path, video_duration=60, fs=1000, start_sec=0, end_sec=30):\n",
    "    print('Extracting bp...', end=' ')\n",
    "    idx2de = {}\n",
    "    try:\n",
    "        for idx in idx2eeg.keys():\n",
    "            eeg = np.array(idx2eeg[idx])\n",
    "\n",
    "            # 计算开始和结束时间对应的样本数\n",
    "            start_samples = start_sec * fs\n",
    "            end_samples = end_sec * fs\n",
    "\n",
    "            # 调整EEG数据，只取视频5秒到25秒的数据\n",
    "            eeg = eeg[:, start_samples:end_samples]\n",
    "\n",
    "            de_list = []\n",
    "\n",
    "            # 计算特征提取的次数，确保不超出调整后的数据长度\n",
    "            num_of_extraction = min(int(eeg.shape[1] / 1000), end_sec - start_sec)\n",
    "\n",
    "            for i in range(num_of_extraction):\n",
    "                # 每次处理1000个样本\n",
    "                tmp_data = eeg[:, i * 1000: i * 1000 + 1000]\n",
    "                tmp_fs = []\n",
    "                for channel_id in range(tmp_data.shape[0]):\n",
    "                    tmp_feature = []\n",
    "                    for band_item in FREQ_BANDS.values():\n",
    "                        # 采用de特征\n",
    "                        tmp_feature.append(math.log(bandpower(tmp_data[channel_id], fs, band_item,window_sec=1, relative=True)))\n",
    "                    tmp_fs.append(tmp_feature)\n",
    "                de_list.append(tmp_fs)\n",
    "            idx2de[idx] = de_list\n",
    "\n",
    "        # 使用with语句确保文件正确关闭\n",
    "        with open(out_path, 'w') as file:\n",
    "            json.dump(idx2de, file)\n",
    "\n",
    "    except Exception as e:\n",
    "        print(\"An error occurred: \", e)\n",
    "        # 处理或记录异常，根据需要修改\n",
    "\n",
    "    print('Done.')\n"
   ]
  },
  {
   "cell_type": "code",
   "execution_count": 5,
   "id": "72e402a7",
   "metadata": {},
   "outputs": [
    {
     "name": "stderr",
     "output_type": "stream",
     "text": [
      "  0%|          | 0/46 [00:00<?, ?it/s]"
     ]
    },
    {
     "name": "stdout",
     "output_type": "stream",
     "text": [
      "Extracting bp... "
     ]
    },
    {
     "name": "stderr",
     "output_type": "stream",
     "text": [
      "  2%|▏         | 1/46 [02:09<1:36:55, 129.24s/it]"
     ]
    },
    {
     "name": "stdout",
     "output_type": "stream",
     "text": [
      "Done.\n",
      "Extracting bp... "
     ]
    },
    {
     "name": "stderr",
     "output_type": "stream",
     "text": [
      "  4%|▍         | 2/46 [04:31<1:40:30, 137.06s/it]"
     ]
    },
    {
     "name": "stdout",
     "output_type": "stream",
     "text": [
      "Done.\n",
      "Extracting bp... "
     ]
    },
    {
     "name": "stderr",
     "output_type": "stream",
     "text": [
      "  7%|▋         | 3/46 [06:39<1:35:02, 132.61s/it]"
     ]
    },
    {
     "name": "stdout",
     "output_type": "stream",
     "text": [
      "Done.\n",
      "Extracting bp... "
     ]
    },
    {
     "name": "stderr",
     "output_type": "stream",
     "text": [
      "  9%|▊         | 4/46 [08:22<1:24:52, 121.24s/it]"
     ]
    },
    {
     "name": "stdout",
     "output_type": "stream",
     "text": [
      "Done.\n",
      "Extracting bp... "
     ]
    },
    {
     "name": "stderr",
     "output_type": "stream",
     "text": [
      " 11%|█         | 5/46 [10:24<1:22:59, 121.45s/it]"
     ]
    },
    {
     "name": "stdout",
     "output_type": "stream",
     "text": [
      "Done.\n",
      "Extracting bp... "
     ]
    },
    {
     "name": "stderr",
     "output_type": "stream",
     "text": [
      " 13%|█▎        | 6/46 [12:40<1:24:13, 126.34s/it]"
     ]
    },
    {
     "name": "stdout",
     "output_type": "stream",
     "text": [
      "Done.\n",
      "Extracting bp... "
     ]
    },
    {
     "name": "stderr",
     "output_type": "stream",
     "text": [
      " 15%|█▌        | 7/46 [14:46<1:22:05, 126.29s/it]"
     ]
    },
    {
     "name": "stdout",
     "output_type": "stream",
     "text": [
      "Done.\n",
      "Extracting bp... "
     ]
    },
    {
     "name": "stderr",
     "output_type": "stream",
     "text": [
      " 17%|█▋        | 8/46 [16:44<1:18:18, 123.65s/it]"
     ]
    },
    {
     "name": "stdout",
     "output_type": "stream",
     "text": [
      "Done.\n",
      "Extracting bp... "
     ]
    },
    {
     "name": "stderr",
     "output_type": "stream",
     "text": [
      " 20%|█▉        | 9/46 [18:37<1:14:14, 120.38s/it]"
     ]
    },
    {
     "name": "stdout",
     "output_type": "stream",
     "text": [
      "Done.\n",
      "Extracting bp... "
     ]
    },
    {
     "name": "stderr",
     "output_type": "stream",
     "text": [
      " 22%|██▏       | 10/46 [20:46<1:13:44, 122.90s/it]"
     ]
    },
    {
     "name": "stdout",
     "output_type": "stream",
     "text": [
      "Done.\n",
      "Extracting bp... "
     ]
    },
    {
     "name": "stderr",
     "output_type": "stream",
     "text": [
      " 24%|██▍       | 11/46 [22:43<1:10:34, 120.98s/it]"
     ]
    },
    {
     "name": "stdout",
     "output_type": "stream",
     "text": [
      "Done.\n",
      "Extracting bp... "
     ]
    },
    {
     "name": "stderr",
     "output_type": "stream",
     "text": [
      " 26%|██▌       | 12/46 [24:41<1:08:11, 120.34s/it]"
     ]
    },
    {
     "name": "stdout",
     "output_type": "stream",
     "text": [
      "Done.\n",
      "Extracting bp... "
     ]
    },
    {
     "name": "stderr",
     "output_type": "stream",
     "text": [
      " 28%|██▊       | 13/46 [26:38<1:05:37, 119.32s/it]"
     ]
    },
    {
     "name": "stdout",
     "output_type": "stream",
     "text": [
      "Done.\n",
      "Extracting bp... "
     ]
    },
    {
     "name": "stderr",
     "output_type": "stream",
     "text": [
      " 30%|███       | 14/46 [28:34<1:03:03, 118.22s/it]"
     ]
    },
    {
     "name": "stdout",
     "output_type": "stream",
     "text": [
      "Done.\n",
      "Extracting bp... "
     ]
    },
    {
     "name": "stderr",
     "output_type": "stream",
     "text": [
      " 33%|███▎      | 15/46 [30:34<1:01:19, 118.70s/it]"
     ]
    },
    {
     "name": "stdout",
     "output_type": "stream",
     "text": [
      "Done.\n",
      "Extracting bp... "
     ]
    },
    {
     "name": "stderr",
     "output_type": "stream",
     "text": [
      " 35%|███▍      | 16/46 [32:44<1:01:07, 122.25s/it]"
     ]
    },
    {
     "name": "stdout",
     "output_type": "stream",
     "text": [
      "Done.\n",
      "Extracting bp... "
     ]
    },
    {
     "name": "stderr",
     "output_type": "stream",
     "text": [
      " 37%|███▋      | 17/46 [34:30<56:40, 117.26s/it]  "
     ]
    },
    {
     "name": "stdout",
     "output_type": "stream",
     "text": [
      "Done.\n",
      "Extracting bp... "
     ]
    },
    {
     "name": "stderr",
     "output_type": "stream",
     "text": [
      " 39%|███▉      | 18/46 [36:31<55:10, 118.24s/it]"
     ]
    },
    {
     "name": "stdout",
     "output_type": "stream",
     "text": [
      "Done.\n",
      "Extracting bp... "
     ]
    },
    {
     "name": "stderr",
     "output_type": "stream",
     "text": [
      " 41%|████▏     | 19/46 [38:25<52:39, 117.02s/it]"
     ]
    },
    {
     "name": "stdout",
     "output_type": "stream",
     "text": [
      "Done.\n",
      "Extracting bp... "
     ]
    },
    {
     "name": "stderr",
     "output_type": "stream",
     "text": [
      " 43%|████▎     | 20/46 [39:58<47:39, 110.00s/it]"
     ]
    },
    {
     "name": "stdout",
     "output_type": "stream",
     "text": [
      "Done.\n",
      "Extracting bp... "
     ]
    },
    {
     "name": "stderr",
     "output_type": "stream",
     "text": [
      " 46%|████▌     | 21/46 [41:44<45:17, 108.71s/it]"
     ]
    },
    {
     "name": "stdout",
     "output_type": "stream",
     "text": [
      "Done.\n",
      "Extracting bp... "
     ]
    },
    {
     "name": "stderr",
     "output_type": "stream",
     "text": [
      " 48%|████▊     | 22/46 [43:44<44:50, 112.09s/it]"
     ]
    },
    {
     "name": "stdout",
     "output_type": "stream",
     "text": [
      "Done.\n",
      "Extracting bp... "
     ]
    },
    {
     "name": "stderr",
     "output_type": "stream",
     "text": [
      " 50%|█████     | 23/46 [45:30<42:11, 110.09s/it]"
     ]
    },
    {
     "name": "stdout",
     "output_type": "stream",
     "text": [
      "Done.\n",
      "Extracting bp... "
     ]
    },
    {
     "name": "stderr",
     "output_type": "stream",
     "text": [
      " 52%|█████▏    | 24/46 [47:26<41:04, 112.03s/it]"
     ]
    },
    {
     "name": "stdout",
     "output_type": "stream",
     "text": [
      "Done.\n",
      "Extracting bp... "
     ]
    },
    {
     "name": "stderr",
     "output_type": "stream",
     "text": [
      " 54%|█████▍    | 25/46 [49:27<40:07, 114.64s/it]"
     ]
    },
    {
     "name": "stdout",
     "output_type": "stream",
     "text": [
      "Done.\n",
      "Extracting bp... "
     ]
    },
    {
     "name": "stderr",
     "output_type": "stream",
     "text": [
      " 57%|█████▋    | 26/46 [51:15<37:32, 112.62s/it]"
     ]
    },
    {
     "name": "stdout",
     "output_type": "stream",
     "text": [
      "Done.\n",
      "Extracting bp... "
     ]
    },
    {
     "name": "stderr",
     "output_type": "stream",
     "text": [
      " 59%|█████▊    | 27/46 [52:32<32:21, 102.16s/it]"
     ]
    },
    {
     "name": "stdout",
     "output_type": "stream",
     "text": [
      "Done.\n",
      "Extracting bp... "
     ]
    },
    {
     "name": "stderr",
     "output_type": "stream",
     "text": [
      " 61%|██████    | 28/46 [54:34<32:21, 107.83s/it]"
     ]
    },
    {
     "name": "stdout",
     "output_type": "stream",
     "text": [
      "Done.\n",
      "Extracting bp... "
     ]
    },
    {
     "name": "stderr",
     "output_type": "stream",
     "text": [
      " 63%|██████▎   | 29/46 [56:42<32:20, 114.14s/it]"
     ]
    },
    {
     "name": "stdout",
     "output_type": "stream",
     "text": [
      "Done.\n",
      "Extracting bp... "
     ]
    },
    {
     "name": "stderr",
     "output_type": "stream",
     "text": [
      " 65%|██████▌   | 30/46 [58:27<29:39, 111.24s/it]"
     ]
    },
    {
     "name": "stdout",
     "output_type": "stream",
     "text": [
      "Done.\n",
      "Extracting bp... "
     ]
    },
    {
     "name": "stderr",
     "output_type": "stream",
     "text": [
      " 67%|██████▋   | 31/46 [1:00:27<28:30, 114.05s/it]"
     ]
    },
    {
     "name": "stdout",
     "output_type": "stream",
     "text": [
      "Done.\n",
      "Extracting bp... "
     ]
    },
    {
     "name": "stderr",
     "output_type": "stream",
     "text": [
      " 70%|██████▉   | 32/46 [1:02:00<25:04, 107.49s/it]"
     ]
    },
    {
     "name": "stdout",
     "output_type": "stream",
     "text": [
      "Done.\n",
      "Extracting bp... "
     ]
    },
    {
     "name": "stderr",
     "output_type": "stream",
     "text": [
      " 72%|███████▏  | 33/46 [1:03:44<23:07, 106.69s/it]"
     ]
    },
    {
     "name": "stdout",
     "output_type": "stream",
     "text": [
      "Done.\n",
      "Extracting bp... "
     ]
    },
    {
     "name": "stderr",
     "output_type": "stream",
     "text": [
      " 74%|███████▍  | 34/46 [1:05:41<21:56, 109.67s/it]"
     ]
    },
    {
     "name": "stdout",
     "output_type": "stream",
     "text": [
      "Done.\n",
      "Extracting bp... "
     ]
    },
    {
     "name": "stderr",
     "output_type": "stream",
     "text": [
      " 76%|███████▌  | 35/46 [1:07:16<19:17, 105.22s/it]"
     ]
    },
    {
     "name": "stdout",
     "output_type": "stream",
     "text": [
      "Done.\n",
      "Extracting bp... "
     ]
    },
    {
     "name": "stderr",
     "output_type": "stream",
     "text": [
      " 78%|███████▊  | 36/46 [1:09:12<18:05, 108.53s/it]"
     ]
    },
    {
     "name": "stdout",
     "output_type": "stream",
     "text": [
      "Done.\n",
      "Extracting bp... "
     ]
    },
    {
     "name": "stderr",
     "output_type": "stream",
     "text": [
      " 80%|████████  | 37/46 [1:10:51<15:50, 105.61s/it]"
     ]
    },
    {
     "name": "stdout",
     "output_type": "stream",
     "text": [
      "Done.\n",
      "Extracting bp... "
     ]
    },
    {
     "name": "stderr",
     "output_type": "stream",
     "text": [
      " 83%|████████▎ | 38/46 [1:12:35<13:59, 104.98s/it]"
     ]
    },
    {
     "name": "stdout",
     "output_type": "stream",
     "text": [
      "Done.\n",
      "Extracting bp... "
     ]
    },
    {
     "name": "stderr",
     "output_type": "stream",
     "text": [
      " 85%|████████▍ | 39/46 [1:14:44<13:05, 112.28s/it]"
     ]
    },
    {
     "name": "stdout",
     "output_type": "stream",
     "text": [
      "Done.\n",
      "Extracting bp... "
     ]
    },
    {
     "name": "stderr",
     "output_type": "stream",
     "text": [
      " 87%|████████▋ | 40/46 [1:16:27<10:57, 109.53s/it]"
     ]
    },
    {
     "name": "stdout",
     "output_type": "stream",
     "text": [
      "Done.\n",
      "Extracting bp... "
     ]
    },
    {
     "name": "stderr",
     "output_type": "stream",
     "text": [
      " 89%|████████▉ | 41/46 [1:18:21<09:14, 110.96s/it]"
     ]
    },
    {
     "name": "stdout",
     "output_type": "stream",
     "text": [
      "Done.\n",
      "Extracting bp... "
     ]
    },
    {
     "name": "stderr",
     "output_type": "stream",
     "text": [
      " 91%|█████████▏| 42/46 [1:20:24<07:38, 114.56s/it]"
     ]
    },
    {
     "name": "stdout",
     "output_type": "stream",
     "text": [
      "Done.\n",
      "Extracting bp... "
     ]
    },
    {
     "name": "stderr",
     "output_type": "stream",
     "text": [
      " 93%|█████████▎| 43/46 [1:21:55<05:22, 107.51s/it]"
     ]
    },
    {
     "name": "stdout",
     "output_type": "stream",
     "text": [
      "Done.\n",
      "Extracting bp... "
     ]
    },
    {
     "name": "stderr",
     "output_type": "stream",
     "text": [
      " 96%|█████████▌| 44/46 [1:23:40<03:33, 106.64s/it]"
     ]
    },
    {
     "name": "stdout",
     "output_type": "stream",
     "text": [
      "Done.\n",
      "Extracting bp... "
     ]
    },
    {
     "name": "stderr",
     "output_type": "stream",
     "text": [
      " 98%|█████████▊| 45/46 [1:25:39<01:50, 110.45s/it]"
     ]
    },
    {
     "name": "stdout",
     "output_type": "stream",
     "text": [
      "Done.\n",
      "Extracting bp... "
     ]
    },
    {
     "name": "stderr",
     "output_type": "stream",
     "text": [
      "100%|██████████| 46/46 [1:27:25<00:00, 114.03s/it]"
     ]
    },
    {
     "name": "stdout",
     "output_type": "stream",
     "text": [
      "Done.\n"
     ]
    },
    {
     "name": "stderr",
     "output_type": "stream",
     "text": [
      "\n"
     ]
    }
   ],
   "source": [
    "for date in tqdm.tqdm(['LAB1-huqifan','LAB1-cangyueyang','LAB1-hongyurui','LAB1-fanhao','LAB1-dongyimeng','LAB1-houlinzhi','LAB1-jiwenjun','LAB1-lujianing','LAB1-miaoshengze',\n",
    "             'LAB1-wanfangwei','LAB1-wangxiaoting','LAB1-wangzhengni','LAB1-yangchen','LAB1-zhangxue','LAB1-liangqihang','LAB1-daisiwei',\n",
    "             'LAB1-zhangyutong','LAB1-mengfanjie','LAB1-zhangchenxi','LAB1-liangyanshu','LAB1-zhaochensong','LAB1-chenxingyu','LAB1-chenrong',\n",
    "'LAB2-huqifan','LAB2-cangyueyang','LAB2-hongyurui','LAB2-fanhao','LAB2-dongyimeng','LAB2-houlinzhi','LAB2-jiwenjun','LAB2-lujianing','LAB2-miaoshengze',\n",
    "             'LAB2-wanfangwei','LAB2-wangxiaoting','LAB2-wangzhengni','LAB2-yangchen','LAB2-zhangxue','LAB2-liangqihang','LAB2-daisiwei',\n",
    "             'LAB2-zhangyutong','LAB2-mengfanjie','LAB2-zhangchenxi','LAB2-liangyanshu','LAB2-zhaochensong','LAB2-chenxingyu','LAB2-chenrong']):\n",
    "    idx2eeg = json.load(open('./x2eeg/'+date+'_idx2eeg.json'))\n",
    "    get_bp(idx2eeg, './hope_features/'+date+'_idx2de.json')"
   ]
  },
  {
   "cell_type": "code",
   "execution_count": null,
   "id": "89f37b9d",
   "metadata": {},
   "outputs": [],
   "source": []
  },
  {
   "cell_type": "code",
   "execution_count": null,
   "id": "3f782eb1",
   "metadata": {},
   "outputs": [],
   "source": []
  },
  {
   "cell_type": "code",
   "execution_count": null,
   "id": "408ca1d5",
   "metadata": {},
   "outputs": [],
   "source": []
  },
  {
   "cell_type": "code",
   "execution_count": null,
   "id": "8707c184",
   "metadata": {},
   "outputs": [],
   "source": []
  }
 ],
 "metadata": {
  "kernelspec": {
   "display_name": "Python 3 (ipykernel)",
   "language": "python",
   "name": "python3"
  },
  "language_info": {
   "codemirror_mode": {
    "name": "ipython",
    "version": 3
   },
   "file_extension": ".py",
   "mimetype": "text/x-python",
   "name": "python",
   "nbconvert_exporter": "python",
   "pygments_lexer": "ipython3",
   "version": "3.9.7"
  }
 },
 "nbformat": 4,
 "nbformat_minor": 5
}
